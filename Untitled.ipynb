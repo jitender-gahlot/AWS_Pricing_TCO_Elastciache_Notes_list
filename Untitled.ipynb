{
 "cells": [
  {
   "cell_type": "code",
   "execution_count": 2,
   "id": "a10530bd",
   "metadata": {},
   "outputs": [],
   "source": [
    "import boto3\n",
    "import json\n",
    "import csv\n",
    "\n",
    "client = boto3.client('pricing')\n",
    "\n",
    "response = client.get_products(\n",
    "    ServiceCode='AmazonElastiCache',\n",
    "    Filters=[\n",
    "#         {'Type': 'TERM_MATCH', 'Field': 'instanceType', 'Value': 'cache.r6gd.12xlarge'},\n",
    "        {'Type': 'TERM_MATCH', 'Field': 'location', 'Value': 'Asia Pacific (Mumbai)'},\n",
    "        {'Type': 'TERM_MATCH', 'Field': 'cacheEngine', 'Value': 'Redis'},\n",
    "    ],\n",
    "    FormatVersion='aws_v1'\n",
    ")\n",
    "\n",
    "# Create a new CSV file\n",
    "with open('output.csv', mode='w', newline='') as file:\n",
    "    writer = csv.writer(file)\n",
    "    \n",
    "    # Add headers to the file\n",
    "    writer.writerow(['Region', 'Type', 'OnDemand Price', 'Reserved Price'])\n",
    "    \n",
    "    for price in response['PriceList']:\n",
    "        parsed = json.loads(price)\n",
    "        instance_type = parsed['product']['attributes']['instanceType']\n",
    "        region_code = parsed['product']['attributes'].get('location')\n",
    "        terms = parsed['terms']\n",
    "\n",
    "        ondemand_price = None\n",
    "        reserved_price = None\n",
    "\n",
    "        if 'OnDemand' in terms:\n",
    "            ondemand_priceDimensions = list(terms['OnDemand'].values())[0].get('priceDimensions')\n",
    "            if ondemand_priceDimensions:\n",
    "                ondemand_priceDescription = ondemand_priceDimensions[list(ondemand_priceDimensions.keys())[0]].get('description')\n",
    "                ondemand_price = ondemand_priceDimensions[list(ondemand_priceDimensions.keys())[0]]\\\n",
    "                    .get('pricePerUnit', {}).get('USD')\n",
    "\n",
    "        if 'Reserved' in terms:\n",
    "            reserved_priceDimensions = terms['Reserved'].values()\n",
    "            for dimension in reserved_priceDimensions:\n",
    "                dimension_priceDimensions = dimension.get('priceDimensions')\n",
    "                if dimension_priceDimensions:\n",
    "                    for key in dimension_priceDimensions:\n",
    "                        reserved_priceDescription = dimension_priceDimensions[key].get('description')\n",
    "                        reserved_price = dimension_priceDimensions[key].get('pricePerUnit', {}).get('USD')\n",
    "                writer.writerow([region_code, instance_type, ondemand_price, reserved_price])\n"
   ]
  },
  {
   "cell_type": "code",
   "execution_count": null,
   "id": "98ffa2fb",
   "metadata": {},
   "outputs": [],
   "source": []
  }
 ],
 "metadata": {
  "kernelspec": {
   "display_name": "Python 3 (ipykernel)",
   "language": "python",
   "name": "python3"
  },
  "language_info": {
   "codemirror_mode": {
    "name": "ipython",
    "version": 3
   },
   "file_extension": ".py",
   "mimetype": "text/x-python",
   "name": "python",
   "nbconvert_exporter": "python",
   "pygments_lexer": "ipython3",
   "version": "3.10.9"
  }
 },
 "nbformat": 4,
 "nbformat_minor": 5
}
