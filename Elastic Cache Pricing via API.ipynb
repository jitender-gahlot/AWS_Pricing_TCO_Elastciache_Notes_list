{
 "cells": [
  {
   "cell_type": "code",
   "execution_count": null,
   "id": "2e713fc1",
   "metadata": {},
   "outputs": [],
   "source": [
    "import requests\n",
    "import pandas as pd\n",
    "url = \"https://b0.p.awsstatic.com/pricing/2.0/meteredUnitMaps/elasticache/USD/current/elasticache.json?timestamp=1598870451424\"\n",
    "r = requests.get(url).json()\n",
    "\n",
    "for region in r[\"regions\"].values():\n",
    "    for k, v in region.items():\n",
    "        print(k)\n",
    "        print(f\"{v['Instance Type']} - {v['price']}\")"
   ]
  },
  {
   "cell_type": "code",
   "execution_count": null,
   "id": "f571964c",
   "metadata": {},
   "outputs": [],
   "source": [
    "openpyxl\n"
   ]
  },
  {
   "cell_type": "code",
   "execution_count": null,
   "id": "3e1773be",
   "metadata": {},
   "outputs": [],
   "source": [
    "import openpyxl"
   ]
  },
  {
   "cell_type": "code",
   "execution_count": null,
   "id": "fdd26773",
   "metadata": {},
   "outputs": [],
   "source": [
    "import requests\n",
    "from prettytable import PrettyTable\n",
    "import openpyxl\n",
    "\n",
    "url = \"https://b0.p.awsstatic.com/pricing/2.0/meteredUnitMaps/elasticache/USD/current/elasticache.json?timestamp=1598870451424\"\n",
    "r = requests.get(url).json()\n",
    "\n",
    "table = PrettyTable()\n",
    "table.field_names = [\"Region\", \"Instance Type\", \"Price\"]\n",
    "\n",
    "for region_name, region_data in r[\"regions\"].items():\n",
    "    for instance_type, instance_data in region_data.items():\n",
    "        table.add_row([region_name, instance_data[\"Instance Type\"], instance_data[\"price\"]])\n",
    "\n",
    "# Create a new workbook\n",
    "workbook = openpyxl.Workbook()\n",
    "\n",
    "# Select the active worksheet\n",
    "worksheet = workbook.active\n",
    "\n",
    "# Write the data to the worksheet\n",
    "worksheet['A1'] = 'Region'\n",
    "worksheet['B1'] = 'Instance Type'\n",
    "worksheet['C1'] = 'Price'\n",
    "\n",
    "for i, row in enumerate(table):\n",
    "    worksheet.cell(row=i+2, column=1, value=row[0])\n",
    "    worksheet.cell(row=i+2, column=2, value=row[1])\n",
    "    worksheet.cell(row=i+2, column=3, value=row[2])\n",
    "\n",
    "# Save the workbook\n",
    "workbook.save('elasticache.xlsx')\n",
    "\n",
    "print(\"Data written to elasticache.xlsx\")\n"
   ]
  },
  {
   "cell_type": "code",
   "execution_count": null,
   "id": "dc97542b",
   "metadata": {},
   "outputs": [],
   "source": [
    "import requests\n",
    "from prettytable import PrettyTable\n",
    "import openpyxl\n",
    "\n",
    "url = \"https://b0.p.awsstatic.com/pricing/2.0/meteredUnitMaps/elasticache/USD/current/elasticache.json?timestamp=1598870451424\"\n",
    "r = requests.get(url).json()\n",
    "\n",
    "table = PrettyTable()\n",
    "table.field_names = [\"Region\", \"Instance Type\", \"Price\"]\n",
    "\n",
    "for region_name, region_data in r[\"regions\"].items():\n",
    "    for instance_type, instance_data in region_data.items():\n",
    "        table.add_row([region_name, instance_data[\"Instance Type\"], instance_data[\"price\"]])\n",
    "\n",
    "# Convert the table to a list of lists\n",
    "data = [row.split(\"|\") for row in str(table).split(\"\\n\") if row]\n",
    "\n",
    "# Create a new workbook\n",
    "workbook = openpyxl.Workbook()\n",
    "\n",
    "# Select the active worksheet\n",
    "worksheet = workbook.active\n",
    "\n",
    "# Write the data to the worksheet\n",
    "for i, row in enumerate(data):\n",
    "    worksheet.append(row)\n",
    "\n",
    "# Save the workbook\n",
    "workbook.save('elasticache.xlsx')\n",
    "\n",
    "print(\"Data written to elasticache.xlsx\")\n"
   ]
  },
  {
   "cell_type": "code",
   "execution_count": null,
   "id": "eadee387",
   "metadata": {},
   "outputs": [],
   "source": [
    "!open .\n"
   ]
  },
  {
   "cell_type": "code",
   "execution_count": 6,
   "id": "20161051",
   "metadata": {},
   "outputs": [
    {
     "ename": "KeyError",
     "evalue": "'prices'",
     "output_type": "error",
     "traceback": [
      "\u001b[0;31m---------------------------------------------------------------------------\u001b[0m",
      "\u001b[0;31mKeyError\u001b[0m                                  Traceback (most recent call last)",
      "Cell \u001b[0;32mIn[6], line 27\u001b[0m\n\u001b[1;32m     25\u001b[0m \u001b[38;5;28;01mif\u001b[39;00m response\u001b[38;5;241m.\u001b[39mok:\n\u001b[1;32m     26\u001b[0m     data \u001b[38;5;241m=\u001b[39m response\u001b[38;5;241m.\u001b[39mjson()\n\u001b[0;32m---> 27\u001b[0m     \u001b[38;5;28;01mfor\u001b[39;00m price \u001b[38;5;129;01min\u001b[39;00m \u001b[43mdata\u001b[49m\u001b[43m[\u001b[49m\u001b[38;5;124;43m\"\u001b[39;49m\u001b[38;5;124;43mprices\u001b[39;49m\u001b[38;5;124;43m\"\u001b[39;49m\u001b[43m]\u001b[49m:\n\u001b[1;32m     28\u001b[0m         \u001b[38;5;28mprint\u001b[39m(\u001b[38;5;124mf\u001b[39m\u001b[38;5;124m\"\u001b[39m\u001b[38;5;132;01m{\u001b[39;00mprice[\u001b[38;5;124m'\u001b[39m\u001b[38;5;124munit\u001b[39m\u001b[38;5;124m'\u001b[39m]\u001b[38;5;132;01m}\u001b[39;00m\u001b[38;5;124m: \u001b[39m\u001b[38;5;132;01m{\u001b[39;00mprice[\u001b[38;5;124m'\u001b[39m\u001b[38;5;124mprice\u001b[39m\u001b[38;5;124m'\u001b[39m]\u001b[38;5;132;01m}\u001b[39;00m\u001b[38;5;124m\"\u001b[39m)\n\u001b[1;32m     29\u001b[0m \u001b[38;5;28;01melse\u001b[39;00m:\n",
      "\u001b[0;31mKeyError\u001b[0m: 'prices'"
     ]
    }
   ],
   "source": [
    "import requests\n",
    "\n",
    "url = \"https://api.pricing.ap-south-1.amazonaws.com\"\n",
    "region = \"ap-south-1\"\n",
    "service = \"AmazonElastiCache\"\n",
    "product_family = \"Cache Node Hours\"\n",
    "attributes = {\"cacheEngine\": \"redis\"}\n",
    "\n",
    "response = requests.post(url, json={\n",
    "    \"pricingPlanId\": \"aws_elasticache\",\n",
    "    \"regionCode\": region,\n",
    "    \"serviceCode\": service,\n",
    "    \"filters\": {\n",
    "        \"productFamily\": {\n",
    "            \"values\": [product_family]\n",
    "        },\n",
    "        \"attributes\": {\n",
    "            \"cacheEngine\": {\n",
    "                \"values\": [attributes[\"cacheEngine\"]]\n",
    "            }\n",
    "        }\n",
    "    }\n",
    "})\n",
    "\n",
    "if response.ok:\n",
    "    data = response.json()\n",
    "    for price in data[\"prices\"]:\n",
    "        print(f\"{price['unit']}: {price['price']}\")\n",
    "else:\n",
    "    print(\"Error retrieving pricing information:\", response.text)\n"
   ]
  },
  {
   "cell_type": "code",
   "execution_count": null,
   "id": "55e5a8f8",
   "metadata": {},
   "outputs": [],
   "source": []
  }
 ],
 "metadata": {
  "kernelspec": {
   "display_name": "Python 3 (ipykernel)",
   "language": "python",
   "name": "python3"
  },
  "language_info": {
   "codemirror_mode": {
    "name": "ipython",
    "version": 3
   },
   "file_extension": ".py",
   "mimetype": "text/x-python",
   "name": "python",
   "nbconvert_exporter": "python",
   "pygments_lexer": "ipython3",
   "version": "3.10.9"
  }
 },
 "nbformat": 4,
 "nbformat_minor": 5
}
