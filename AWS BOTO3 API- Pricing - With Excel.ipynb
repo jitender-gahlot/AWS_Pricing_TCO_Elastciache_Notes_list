{
 "cells": [
  {
   "cell_type": "code",
   "execution_count": null,
   "id": "ee4cba8f",
   "metadata": {},
   "outputs": [],
   "source": [
    "import boto3\n",
    "import json\n",
    "import openpyxl\n",
    "\n",
    "client = boto3.client('pricing', region_name='us-east-1')\n",
    "\n",
    "# Get the list of regions and cache types\n",
    "response = client.get_attribute_values(ServiceCode='AmazonElastiCache', AttributeName='location')\n",
    "regions = [region['Value'] for region in response['AttributeValues']]\n",
    "response = client.get_attribute_values(ServiceCode='AmazonElastiCache', AttributeName='usagetype')\n",
    "cache_types = [cache_type['Value'] for cache_type in response['AttributeValues']]\n",
    "\n",
    "# Create a new workbook\n",
    "workbook = openpyxl.Workbook()\n",
    "worksheet = workbook.active\n",
    "\n",
    "# Add headers to the worksheet\n",
    "worksheet.append(['Region', 'Cache Type', 'Type', 'OnDemand Price', 'Reserved Price'])\n",
    "\n",
    "# Get pricing information for each region and cache type\n",
    "for region in regions:\n",
    "    for cache_type in cache_types:\n",
    "        response = client.get_products(\n",
    "            ServiceCode='AmazonElastiCache',\n",
    "            Filters=[\n",
    "                {'Type': 'TERM_MATCH', 'Field': 'location', 'Value': region},\n",
    "                {'Type': 'TERM_MATCH', 'Field': 'cacheType', 'Value': cache_type},\n",
    "            ],\n",
    "            FormatVersion='aws_v1'\n",
    "        )\n",
    "        \n",
    "        for price in response['PriceList']:\n",
    "            parsed = json.loads(price)\n",
    "            instance_type = parsed['product']['attributes']['instanceType']\n",
    "            terms = parsed['terms']\n",
    "\n",
    "            ondemand_price = None\n",
    "            reserved_price = None\n",
    "\n",
    "            if 'OnDemand' in terms:\n",
    "                ondemand_priceDimensions = list(terms['OnDemand'].values())[0].get('priceDimensions')\n",
    "                if ondemand_priceDimensions:\n",
    "                    ondemand_priceDescription = ondemand_priceDimensions[list(ondemand_priceDimensions.keys())[0]].get('description')\n",
    "                    ondemand_price = ondemand_priceDimensions[list(ondemand_priceDimensions.keys())[0]]\\\n",
    "                        .get('pricePerUnit', {}).get('USD')\n",
    "\n",
    "            if 'Reserved' in terms:\n",
    "                reserved_priceDimensions = terms['Reserved'].values()\n",
    "                for dimension in reserved_priceDimensions:\n",
    "                    dimension_priceDimensions = dimension.get('priceDimensions')\n",
    "                    if dimension_priceDimensions:\n",
    "                        for key in dimension_priceDimensions:\n",
    "                            reserved_priceDescription = dimension_priceDimensions[key].get('description')\n",
    "                            reserved_price = dimension_priceDimensions[key].get('pricePerUnit', {}).get('USD')\n",
    "                    worksheet.append([region, cache_type, instance_type, ondemand_price, reserved_price])\n",
    "\n",
    "# Save the workbook\n",
    "workbook.save('output.xlsx')\n"
   ]
  },
  {
   "cell_type": "code",
   "execution_count": null,
   "id": "10705346",
   "metadata": {},
   "outputs": [],
   "source": [
    "import boto3\n",
    "import json\n",
    "import openpyxl\n",
    "\n",
    "client = boto3.client('pricing', region_name='us-east-1')\n",
    "\n",
    "# Get the list of regions and cache types\n",
    "response = client.get_attribute_values(ServiceCode='AmazonElastiCache', AttributeName='location')"
   ]
  },
  {
   "cell_type": "code",
   "execution_count": null,
   "id": "181c5c06",
   "metadata": {},
   "outputs": [],
   "source": [
    "print(response)"
   ]
  },
  {
   "cell_type": "code",
   "execution_count": null,
   "id": "3ee29a64",
   "metadata": {},
   "outputs": [],
   "source": [
    "regions = [region['Value'] for region in response['AttributeValues']]"
   ]
  },
  {
   "cell_type": "code",
   "execution_count": null,
   "id": "f41a2aee",
   "metadata": {},
   "outputs": [],
   "source": [
    "print(regions)"
   ]
  },
  {
   "cell_type": "code",
   "execution_count": null,
   "id": "10d83cce",
   "metadata": {},
   "outputs": [],
   "source": [
    "# Get the list of regions and cache types\n",
    "response = client.get_attribute_values(ServiceCode='AmazonElastiCache', AttributeName='location')\n",
    "regions = [region['Value'] for region in response['AttributeValues']]\n",
    "response = client.get_attribute_values(ServiceCode='AmazonElastiCache', AttributeName='cacheType')\n",
    "cache_types = [cache_type['Value'] for cache_type in response['AttributeValues']]\n"
   ]
  },
  {
   "cell_type": "code",
   "execution_count": null,
   "id": "d0c2ca61",
   "metadata": {},
   "outputs": [],
   "source": [
    "print(cache_types)"
   ]
  },
  {
   "cell_type": "code",
   "execution_count": null,
   "id": "cb0d9a5a",
   "metadata": {},
   "outputs": [],
   "source": [
    "import boto3\n",
    "import json\n",
    "import openpyxl\n",
    "\n",
    "client = boto3.client('pricing', region_name='us-east-1')\n",
    "\n",
    "# Get the list of regions and cache types\n",
    "response = client.get_attribute_values(ServiceCode='AmazonElastiCache', AttributeName='usagetype')"
   ]
  },
  {
   "cell_type": "code",
   "execution_count": null,
   "id": "4e480e4e",
   "metadata": {},
   "outputs": [],
   "source": [
    "print(response)"
   ]
  },
  {
   "cell_type": "code",
   "execution_count": null,
   "id": "94e683a4",
   "metadata": {},
   "outputs": [],
   "source": [
    "import boto3\n",
    "import json\n",
    "import openpyxl\n",
    "\n",
    "client = boto3.client('pricing', region_name='us-east-1')\n",
    "\n",
    "# Get the list of regions and cache types\n",
    "response = client.get_attribute_values(ServiceCode='AmazonElastiCache', AttributeName='location')\n",
    "regions = [region['Value'] for region in response['AttributeValues']]\n",
    "response = client.get_attribute_values(ServiceCode='AmazonElastiCache', AttributeName='usagetype')\n",
    "cache_types = [cache_type['Value'] for cache_type in response['AttributeValues']]"
   ]
  },
  {
   "cell_type": "code",
   "execution_count": null,
   "id": "a7e8f7f7",
   "metadata": {},
   "outputs": [],
   "source": [
    "print(cache_types)"
   ]
  },
  {
   "cell_type": "code",
   "execution_count": null,
   "id": "5023eae0",
   "metadata": {
    "scrolled": true
   },
   "outputs": [],
   "source": [
    "import boto3\n",
    "import json\n",
    "import openpyxl\n",
    "\n",
    "client = boto3.client('pricing', region_name='us-east-1')\n",
    "\n",
    "# Get the list of regions and cache types\n",
    "response = client.get_attribute_values(ServiceCode='AmazonElastiCache', AttributeName='location')\n",
    "# print(response)\n",
    "regions = [region['Value'] for region in response['AttributeValues']]\n",
    "# print(f\" Jitender Singh Gahlot: {regions}\")\n",
    "response = client.get_attribute_values(ServiceCode='AmazonElastiCache', AttributeName='usagetype')\n",
    "# print(response)\n",
    "cache_types = [cache_type['Value'] for cache_type in response['AttributeValues']]\n",
    "# print(cache_types)\n",
    "\n",
    "\n",
    "response = client.get_products(\n",
    "            ServiceCode='AmazonElastiCache',\n",
    "            Filters=[\n",
    "                {'Type': 'TERM_MATCH', 'Field': 'instanceType', 'Value': 'cache.r6gd.12xlarge'},\n",
    "                {'Type': 'TERM_MATCH', 'Field': 'location', 'Value': 'Asia Pacific (Mumbai)'},\n",
    "                {'Type': 'TERM_MATCH', 'Field': 'cacheEngine', 'Value': 'Redis'},\n",
    "\n",
    "            ],\n",
    "            FormatVersion='aws_v1'\n",
    "        )\n",
    "print(response)\n",
    "\n",
    "# Get pricing information for each region and cache type\n",
    "# for region in regions:\n",
    "#     for cache_type in cache_types:\n",
    "#         response = client.get_products(\n",
    "#             ServiceCode='AmazonElastiCache',\n",
    "#             Filters=[\n",
    "#                 {'Type': 'TERM_MATCH', 'Field': 'location', 'Value': region},\n",
    "# #                 {'Type': 'TERM_MATCH', 'Field': 'usagetype', 'Value': usagetype},\n",
    "#             ],\n",
    "#             FormatVersion='aws_v1'\n",
    "#         )"
   ]
  },
  {
   "cell_type": "code",
   "execution_count": null,
   "id": "ec014778",
   "metadata": {},
   "outputs": [],
   "source": [
    "import boto3\n",
    "\n",
    "# Create an EC2 client object\n",
    "ec2 = boto3.client('ec2')\n",
    "\n",
    "# Get a list of all AWS regions\n",
    "regions = ec2.describe_regions()\n",
    "\n",
    "# Extract the region names from the response\n",
    "region_names = [region['RegionName'] for region in regions['Regions']]\n",
    "\n",
    "print(region_names)\n"
   ]
  },
  {
   "cell_type": "code",
   "execution_count": null,
   "id": "4ba3f590",
   "metadata": {},
   "outputs": [],
   "source": [
    "print(regions)"
   ]
  },
  {
   "cell_type": "code",
   "execution_count": null,
   "id": "c3492517",
   "metadata": {},
   "outputs": [],
   "source": [
    "import boto3\n",
    "\n",
    "# Create a pricing client object\n",
    "pricing = boto3.client('pricing')\n",
    "\n",
    "# Get a list of available services and their regions\n",
    "response = pricing.describe_services()\n",
    "\n",
    "services = response['Services']\n",
    "regions = []\n",
    "for service in services:\n",
    "    if service['AttributeNames'] is not None and 'region' in service['AttributeNames']:\n",
    "        response = pricing.get_attribute_values(\n",
    "            ServiceCode=service['ServiceCode'],\n",
    "            AttributeName='region'\n",
    "        )\n",
    "        for attribute_value in response['AttributeValues']:\n",
    "            regions.append(attribute_value['Value'])\n",
    "\n",
    "print(regions)\n"
   ]
  },
  {
   "cell_type": "code",
   "execution_count": null,
   "id": "7a69b78f",
   "metadata": {},
   "outputs": [],
   "source": [
    "print(response)"
   ]
  },
  {
   "cell_type": "code",
   "execution_count": null,
   "id": "19bb7f3e",
   "metadata": {},
   "outputs": [],
   "source": []
  }
 ],
 "metadata": {
  "kernelspec": {
   "display_name": "Python 3 (ipykernel)",
   "language": "python",
   "name": "python3"
  },
  "language_info": {
   "codemirror_mode": {
    "name": "ipython",
    "version": 3
   },
   "file_extension": ".py",
   "mimetype": "text/x-python",
   "name": "python",
   "nbconvert_exporter": "python",
   "pygments_lexer": "ipython3",
   "version": "3.10.9"
  }
 },
 "nbformat": 4,
 "nbformat_minor": 5
}
